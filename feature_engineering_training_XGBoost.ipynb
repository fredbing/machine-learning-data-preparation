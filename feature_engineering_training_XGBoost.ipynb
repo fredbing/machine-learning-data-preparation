{
 "cells": [
  {
   "cell_type": "markdown",
   "metadata": {},
   "source": [
    "## Multi-class classification with XGBoost--Feature engineering and model training "
   ]
  },
  {
   "cell_type": "markdown",
   "metadata": {},
   "source": [
    "Steps: (1) Load dataset from s3 onto the notebook, (2) clean, transform, analyze and prepare the dataset, (3) create and train model with XGBoost algorithm"
   ]
  },
  {
   "cell_type": "code",
   "execution_count": 1,
   "metadata": {},
   "outputs": [],
   "source": [
    "import pandas as pd\n",
    "import numpy as np\n",
    "import seaborn as sns\n",
    "import matplotlib.pyplot as plt\n",
    "\n",
    "import io\n",
    "from datetime import datetime\n",
    "\n",
    "import boto3, sagemaker\n",
    "from sagemaker import get_execution_role\n",
    "import sagemaker.amazon.common as smac\n"
   ]
  },
  {
   "cell_type": "markdown",
   "metadata": {},
   "source": [
    "### Step 1: Load the dataset from S3 onto the notebook"
   ]
  },
  {
   "cell_type": "code",
   "execution_count": 2,
   "metadata": {},
   "outputs": [
    {
     "data": {
      "text/html": [
       "<div>\n",
       "<style scoped>\n",
       "    .dataframe tbody tr th:only-of-type {\n",
       "        vertical-align: middle;\n",
       "    }\n",
       "\n",
       "    .dataframe tbody tr th {\n",
       "        vertical-align: top;\n",
       "    }\n",
       "\n",
       "    .dataframe thead th {\n",
       "        text-align: right;\n",
       "    }\n",
       "</style>\n",
       "<table border=\"1\" class=\"dataframe\">\n",
       "  <thead>\n",
       "    <tr style=\"text-align: right;\">\n",
       "      <th></th>\n",
       "      <th>reportedTimestamp</th>\n",
       "      <th>eventDate</th>\n",
       "      <th>eventTime</th>\n",
       "      <th>shape</th>\n",
       "      <th>duration</th>\n",
       "      <th>witnesses</th>\n",
       "      <th>weather</th>\n",
       "      <th>firstName</th>\n",
       "      <th>lastName</th>\n",
       "      <th>latitude</th>\n",
       "      <th>longitude</th>\n",
       "      <th>sighting</th>\n",
       "      <th>physicalEvidence</th>\n",
       "      <th>contact</th>\n",
       "      <th>researchOutcome</th>\n",
       "    </tr>\n",
       "  </thead>\n",
       "  <tbody>\n",
       "    <tr>\n",
       "      <th>0</th>\n",
       "      <td>1977-04-04T04:02:23.340Z</td>\n",
       "      <td>1977-03-31</td>\n",
       "      <td>23:46</td>\n",
       "      <td>circle</td>\n",
       "      <td>4</td>\n",
       "      <td>1</td>\n",
       "      <td>rain</td>\n",
       "      <td>Ila</td>\n",
       "      <td>Bashirian</td>\n",
       "      <td>47.329444</td>\n",
       "      <td>-122.578889</td>\n",
       "      <td>Y</td>\n",
       "      <td>N</td>\n",
       "      <td>N</td>\n",
       "      <td>explained</td>\n",
       "    </tr>\n",
       "    <tr>\n",
       "      <th>1</th>\n",
       "      <td>1982-11-22T02:06:32.019Z</td>\n",
       "      <td>1982-11-15</td>\n",
       "      <td>22:04</td>\n",
       "      <td>disk</td>\n",
       "      <td>4</td>\n",
       "      <td>1</td>\n",
       "      <td>partly cloudy</td>\n",
       "      <td>Eriberto</td>\n",
       "      <td>Runolfsson</td>\n",
       "      <td>52.664913</td>\n",
       "      <td>-1.034894</td>\n",
       "      <td>Y</td>\n",
       "      <td>Y</td>\n",
       "      <td>N</td>\n",
       "      <td>explained</td>\n",
       "    </tr>\n",
       "    <tr>\n",
       "      <th>2</th>\n",
       "      <td>1992-12-07T19:06:52.482Z</td>\n",
       "      <td>1992-12-07</td>\n",
       "      <td>19:01</td>\n",
       "      <td>circle</td>\n",
       "      <td>49</td>\n",
       "      <td>1</td>\n",
       "      <td>clear</td>\n",
       "      <td>Miller</td>\n",
       "      <td>Watsica</td>\n",
       "      <td>38.951667</td>\n",
       "      <td>-92.333889</td>\n",
       "      <td>Y</td>\n",
       "      <td>N</td>\n",
       "      <td>N</td>\n",
       "      <td>explained</td>\n",
       "    </tr>\n",
       "    <tr>\n",
       "      <th>3</th>\n",
       "      <td>2011-02-24T21:06:34.898Z</td>\n",
       "      <td>2011-02-21</td>\n",
       "      <td>20:56</td>\n",
       "      <td>disk</td>\n",
       "      <td>13</td>\n",
       "      <td>1</td>\n",
       "      <td>partly cloudy</td>\n",
       "      <td>Clifton</td>\n",
       "      <td>Bechtelar</td>\n",
       "      <td>41.496944</td>\n",
       "      <td>-71.367778</td>\n",
       "      <td>Y</td>\n",
       "      <td>N</td>\n",
       "      <td>N</td>\n",
       "      <td>explained</td>\n",
       "    </tr>\n",
       "    <tr>\n",
       "      <th>4</th>\n",
       "      <td>1991-03-09T16:18:45.501Z</td>\n",
       "      <td>1991-03-09</td>\n",
       "      <td>11:42</td>\n",
       "      <td>circle</td>\n",
       "      <td>17</td>\n",
       "      <td>1</td>\n",
       "      <td>mostly cloudy</td>\n",
       "      <td>Jayda</td>\n",
       "      <td>Ebert</td>\n",
       "      <td>47.606389</td>\n",
       "      <td>-122.330833</td>\n",
       "      <td>Y</td>\n",
       "      <td>N</td>\n",
       "      <td>N</td>\n",
       "      <td>explained</td>\n",
       "    </tr>\n",
       "  </tbody>\n",
       "</table>\n",
       "</div>"
      ],
      "text/plain": [
       "          reportedTimestamp   eventDate eventTime   shape  duration  \\\n",
       "0  1977-04-04T04:02:23.340Z  1977-03-31     23:46  circle         4   \n",
       "1  1982-11-22T02:06:32.019Z  1982-11-15     22:04    disk         4   \n",
       "2  1992-12-07T19:06:52.482Z  1992-12-07     19:01  circle        49   \n",
       "3  2011-02-24T21:06:34.898Z  2011-02-21     20:56    disk        13   \n",
       "4  1991-03-09T16:18:45.501Z  1991-03-09     11:42  circle        17   \n",
       "\n",
       "   witnesses        weather firstName    lastName   latitude   longitude  \\\n",
       "0          1           rain       Ila   Bashirian  47.329444 -122.578889   \n",
       "1          1  partly cloudy  Eriberto  Runolfsson  52.664913   -1.034894   \n",
       "2          1          clear    Miller     Watsica  38.951667  -92.333889   \n",
       "3          1  partly cloudy   Clifton   Bechtelar  41.496944  -71.367778   \n",
       "4          1  mostly cloudy     Jayda       Ebert  47.606389 -122.330833   \n",
       "\n",
       "  sighting physicalEvidence contact researchOutcome  \n",
       "0        Y                N       N       explained  \n",
       "1        Y                Y       N       explained  \n",
       "2        Y                N       N       explained  \n",
       "3        Y                N       N       explained  \n",
       "4        Y                N       N       explained  "
      ]
     },
     "execution_count": 2,
     "metadata": {},
     "output_type": "execute_result"
    }
   ],
   "source": [
    "role = get_execution_role()\n",
    "bucket = 'ml-projects-bl'\n",
    "sub_folder = 'ufo_dataset'\n",
    "data_key = 'ufo_fullset.csv'\n",
    "data_location = 's3://{}/{}/{}'.format(bucket, sub_folder, data_key)\n",
    "\n",
    "df = pd.read_csv(data_location, low_memory=False)\n",
    "df.head()"
   ]
  },
  {
   "cell_type": "markdown",
   "metadata": {},
   "source": [
    "### Step 2: Clean, Transform, Analyze, and Prepare the dataset"
   ]
  },
  {
   "cell_type": "markdown",
   "metadata": {},
   "source": [
    "First check if there are missing values"
   ]
  },
  {
   "cell_type": "code",
   "execution_count": 3,
   "metadata": {},
   "outputs": [
    {
     "data": {
      "text/html": [
       "<div>\n",
       "<style scoped>\n",
       "    .dataframe tbody tr th:only-of-type {\n",
       "        vertical-align: middle;\n",
       "    }\n",
       "\n",
       "    .dataframe tbody tr th {\n",
       "        vertical-align: top;\n",
       "    }\n",
       "\n",
       "    .dataframe thead th {\n",
       "        text-align: right;\n",
       "    }\n",
       "</style>\n",
       "<table border=\"1\" class=\"dataframe\">\n",
       "  <thead>\n",
       "    <tr style=\"text-align: right;\">\n",
       "      <th></th>\n",
       "      <th>reportedTimestamp</th>\n",
       "      <th>eventDate</th>\n",
       "      <th>eventTime</th>\n",
       "      <th>shape</th>\n",
       "      <th>duration</th>\n",
       "      <th>witnesses</th>\n",
       "      <th>weather</th>\n",
       "      <th>firstName</th>\n",
       "      <th>lastName</th>\n",
       "      <th>latitude</th>\n",
       "      <th>longitude</th>\n",
       "      <th>sighting</th>\n",
       "      <th>physicalEvidence</th>\n",
       "      <th>contact</th>\n",
       "      <th>researchOutcome</th>\n",
       "    </tr>\n",
       "  </thead>\n",
       "  <tbody>\n",
       "    <tr>\n",
       "      <th>1024</th>\n",
       "      <td>2011-03-23T18:32:20.473Z</td>\n",
       "      <td>2011-03-22</td>\n",
       "      <td>21:12</td>\n",
       "      <td>NaN</td>\n",
       "      <td>3</td>\n",
       "      <td>1</td>\n",
       "      <td>rain</td>\n",
       "      <td>Deon</td>\n",
       "      <td>Feil</td>\n",
       "      <td>37.681944</td>\n",
       "      <td>-121.766944</td>\n",
       "      <td>Y</td>\n",
       "      <td>N</td>\n",
       "      <td>N</td>\n",
       "      <td>explained</td>\n",
       "    </tr>\n",
       "    <tr>\n",
       "      <th>2048</th>\n",
       "      <td>1998-04-23T18:47:16.029Z</td>\n",
       "      <td>1998-04-23</td>\n",
       "      <td>10:07</td>\n",
       "      <td>NaN</td>\n",
       "      <td>40</td>\n",
       "      <td>2</td>\n",
       "      <td>partly cloudy</td>\n",
       "      <td>Vincenzo</td>\n",
       "      <td>Rohan</td>\n",
       "      <td>38.254167</td>\n",
       "      <td>-85.759444</td>\n",
       "      <td>Y</td>\n",
       "      <td>Y</td>\n",
       "      <td>N</td>\n",
       "      <td>explained</td>\n",
       "    </tr>\n",
       "  </tbody>\n",
       "</table>\n",
       "</div>"
      ],
      "text/plain": [
       "             reportedTimestamp   eventDate eventTime shape  duration  \\\n",
       "1024  2011-03-23T18:32:20.473Z  2011-03-22     21:12   NaN         3   \n",
       "2048  1998-04-23T18:47:16.029Z  1998-04-23     10:07   NaN        40   \n",
       "\n",
       "      witnesses        weather firstName lastName   latitude   longitude  \\\n",
       "1024          1           rain      Deon     Feil  37.681944 -121.766944   \n",
       "2048          2  partly cloudy  Vincenzo    Rohan  38.254167  -85.759444   \n",
       "\n",
       "     sighting physicalEvidence contact researchOutcome  \n",
       "1024        Y                N       N       explained  \n",
       "2048        Y                Y       N       explained  "
      ]
     },
     "metadata": {},
     "output_type": "display_data"
    }
   ],
   "source": [
    "missing_values = df.isnull().values.any()\n",
    "if(missing_values):\n",
    "    display(df[df.isnull().any(axis=1)])"
   ]
  },
  {
   "cell_type": "markdown",
   "metadata": {},
   "source": [
    "There are 2 records with missing values of 'shape'. Now to check which the shapes are and their occurrances."
   ]
  },
  {
   "cell_type": "code",
   "execution_count": 5,
   "metadata": {},
   "outputs": [
    {
     "data": {
      "text/plain": [
       "circle      6047\n",
       "disk        5920\n",
       "light       1699\n",
       "square      1662\n",
       "triangle    1062\n",
       "sphere      1020\n",
       "box          200\n",
       "oval         199\n",
       "pyramid      189\n",
       "Name: shape, dtype: int64"
      ]
     },
     "execution_count": 5,
     "metadata": {},
     "output_type": "execute_result"
    }
   ],
   "source": [
    "df['shape'].value_counts()"
   ]
  },
  {
   "cell_type": "markdown",
   "metadata": {},
   "source": [
    "replace the missing shape values with the most common shape which is circle"
   ]
  },
  {
   "cell_type": "code",
   "execution_count": 6,
   "metadata": {},
   "outputs": [],
   "source": [
    "df['shape'] = df['shape'].fillna(df['shape'].value_counts().index[0])"
   ]
  },
  {
   "cell_type": "markdown",
   "metadata": {},
   "source": [
    "now start data transformation: (1) convert the data types of reportedTimestamp and eventDate to datetime (2) convert the data type of shape and weather to category data type, (3) map physicalEvidence and contact from 'Y', 'N, to 1, 0, (4) convert researchOutcome to category data type as target attribute."
   ]
  },
  {
   "cell_type": "code",
   "execution_count": 7,
   "metadata": {},
   "outputs": [],
   "source": [
    "df['reportedTimestamp'] = pd.to_datetime(df['reportedTimestamp'])\n",
    "df['eventDate'] = pd.to_datetime(df['eventDate'])"
   ]
  },
  {
   "cell_type": "code",
   "execution_count": 9,
   "metadata": {},
   "outputs": [],
   "source": [
    "df['shape'] = df['shape'].astype('category')\n",
    "df['weather'] = df['weather'].astype('category')"
   ]
  },
  {
   "cell_type": "code",
   "execution_count": 10,
   "metadata": {},
   "outputs": [],
   "source": [
    "df['physicalEvidence'] = df['physicalEvidence'].replace({'Y':1, 'N':0})\n",
    "df['contact'] = df['contact'].replace({'Y':1, 'N':0})"
   ]
  },
  {
   "cell_type": "code",
   "execution_count": 11,
   "metadata": {},
   "outputs": [],
   "source": [
    "df['researchOutcome'] = df['researchOutcome'].astype('category')"
   ]
  },
  {
   "cell_type": "code",
   "execution_count": 13,
   "metadata": {},
   "outputs": [
    {
     "data": {
      "text/plain": [
       "reportedTimestamp    datetime64[ns, UTC]\n",
       "eventDate                 datetime64[ns]\n",
       "eventTime                         object\n",
       "shape                           category\n",
       "duration                           int64\n",
       "witnesses                          int64\n",
       "weather                         category\n",
       "firstName                         object\n",
       "lastName                          object\n",
       "latitude                         float64\n",
       "longitude                        float64\n",
       "sighting                          object\n",
       "physicalEvidence                   int64\n",
       "contact                            int64\n",
       "researchOutcome                 category\n",
       "dtype: object"
      ]
     },
     "execution_count": 13,
     "metadata": {},
     "output_type": "execute_result"
    }
   ],
   "source": [
    "df.dtypes"
   ]
  },
  {
   "cell_type": "markdown",
   "metadata": {},
   "source": [
    "now review the data through visualization and find out useful info as input for data preparation"
   ]
  },
  {
   "cell_type": "code",
   "execution_count": 15,
   "metadata": {},
   "outputs": [],
   "source": [
    "%matplotlib inline\n",
    "sns.set_context(\"paper\", font_scale=1.4)"
   ]
  },
  {
   "cell_type": "code",
   "execution_count": null,
   "metadata": {},
   "outputs": [],
   "source": []
  },
  {
   "cell_type": "code",
   "execution_count": 16,
   "metadata": {},
   "outputs": [
    {
     "data": {
      "image/png": "[encoded data removed]",
      "text/plain": [
       "<Figure size 360x360 with 1 Axes>"
      ]
     },
     "metadata": {},
     "output_type": "display_data"
    }
   ],
   "source": [
    "m_cts = (df['contact'].value_counts())\n",
    "m_ctsx = m_cts.index\n",
    "m_ctsy = m_cts.get_values()\n",
    "f, ax = plt.subplots(figsize=(5,5))\n",
    "\n",
    "sns.barplot(x=m_ctsx, y=m_ctsy)\n",
    "ax.set_title('Sighting and Contact')\n",
    "ax.set_xlabel('Was contact made?')\n",
    "ax.set_ylabel('Number of Sightings')\n",
    "ax.set_xticklabels(['No', 'Yes'])\n",
    "plt.xticks(rotation=45)\n",
    "plt.show()"
   ]
  },
  {
   "cell_type": "code",
   "execution_count": 17,
   "metadata": {},
   "outputs": [
    {
     "data": {
      "image/png": "[encoded data removed]",
      "text/plain": [
       "<Figure size 360x360 with 1 Axes>"
      ]
     },
     "metadata": {},
     "output_type": "display_data"
    }
   ],
   "source": [
    "m_cts = (df['physicalEvidence'].value_counts())\n",
    "m_ctsx = m_cts.index\n",
    "m_ctsy = m_cts.get_values()\n",
    "f, ax = plt.subplots(figsize=(5,5))\n",
    "\n",
    "sns.barplot(x=m_ctsx, y=m_ctsy)\n",
    "ax.set_title('Sighting and Physical Evidence')\n",
    "ax.set_xlabel('Was there physical evidence?')\n",
    "ax.set_ylabel('Number of Sightings')\n",
    "ax.set_xticklabels(['No', 'Yes'])\n",
    "plt.xticks(rotation=45)\n",
    "plt.show()"
   ]
  },
  {
   "cell_type": "code",
   "execution_count": 18,
   "metadata": {},
   "outputs": [
    {
     "data": {
      "image/png": "[encoded data removed]",
      "text/plain": [
       "<Figure size 648x360 with 1 Axes>"
      ]
     },
     "metadata": {},
     "output_type": "display_data"
    }
   ],
   "source": [
    "m_cts = (df['shape'].value_counts())\n",
    "m_ctsx = m_cts.index\n",
    "m_ctsy = m_cts.get_values()\n",
    "f, ax = plt.subplots(figsize=(9,5))\n",
    "\n",
    "sns.barplot(x=m_ctsx, y=m_ctsy)\n",
    "ax.set_title('Sightings')\n",
    "ax.set_xlabel('Shape')\n",
    "ax.set_ylabel('Number of Sightings')\n",
    "plt.xticks(rotation=45)\n",
    "plt.show()"
   ]
  },
  {
   "cell_type": "code",
   "execution_count": 20,
   "metadata": {},
   "outputs": [
    {
     "data": {
      "image/png": "[encoded data removed]",
      "text/plain": [
       "<Figure size 504x360 with 1 Axes>"
      ]
     },
     "metadata": {},
     "output_type": "display_data"
    }
   ],
   "source": [
    "m_cts = (df['weather'].value_counts())\n",
    "m_ctsx = m_cts.index\n",
    "m_ctsy = m_cts.get_values()\n",
    "f, ax = plt.subplots(figsize=(7,5))\n",
    "\n",
    "sns.barplot(x=m_ctsx, y=m_ctsy)\n",
    "ax.set_title('Sightings')\n",
    "ax.set_xlabel('Weather')\n",
    "ax.set_ylabel('Number of Sightings')\n",
    "plt.xticks(rotation=45)\n",
    "plt.show()"
   ]
  },
  {
   "cell_type": "code",
   "execution_count": 22,
   "metadata": {},
   "outputs": [
    {
     "data": {
      "image/png": "[encoded data removed]",
      "text/plain": [
       "<Figure size 360x360 with 1 Axes>"
      ]
     },
     "metadata": {},
     "output_type": "display_data"
    }
   ],
   "source": [
    "m_cts = (df['researchOutcome'].value_counts())\n",
    "m_ctsx = m_cts.index\n",
    "m_ctsy = m_cts.get_values()\n",
    "f, ax = plt.subplots(figsize=(5,5))\n",
    "\n",
    "sns.barplot(x=m_ctsx, y=m_ctsy)\n",
    "\n",
    "ax.set_title('Sightings')\n",
    "ax.set_xlabel('Research Outcome')\n",
    "ax.set_ylabel('Number of Sightings')\n",
    "\n",
    "plt.xticks(rotation=45)\n",
    "plt.show()"
   ]
  },
  {
   "cell_type": "code",
   "execution_count": 24,
   "metadata": {},
   "outputs": [
    {
     "data": {
      "image/png": "[encoded data removed]",
      "text/plain": [
       "<Figure size 1080x576 with 1 Axes>"
      ]
     },
     "metadata": {},
     "output_type": "display_data"
    }
   ],
   "source": [
    "ufo_yr = df['eventDate'].dt.year\n",
    "\n",
    "years_data = ufo_yr.value_counts()\n",
    "years_index = years_data.index\n",
    "years_values = years_data.get_values()\n",
    "\n",
    "plt.figure(figsize=(15,8))\n",
    "plt.xticks(rotation=60)\n",
    "plt.title('Sightings by Year')\n",
    "plt.ylabel('Number of Sightings')\n",
    "plt.ylabel('Year')\n",
    "\n",
    "years_plot = sns.barplot(x=years_index[:60], y=years_values[:60])"
   ]
  },
  {
   "cell_type": "code",
   "execution_count": 25,
   "metadata": {},
   "outputs": [
    {
     "data": {
      "text/html": [
       "<div>\n",
       "<style scoped>\n",
       "    .dataframe tbody tr th:only-of-type {\n",
       "        vertical-align: middle;\n",
       "    }\n",
       "\n",
       "    .dataframe tbody tr th {\n",
       "        vertical-align: top;\n",
       "    }\n",
       "\n",
       "    .dataframe thead th {\n",
       "        text-align: right;\n",
       "    }\n",
       "</style>\n",
       "<table border=\"1\" class=\"dataframe\">\n",
       "  <thead>\n",
       "    <tr style=\"text-align: right;\">\n",
       "      <th></th>\n",
       "      <th>duration</th>\n",
       "      <th>witnesses</th>\n",
       "      <th>latitude</th>\n",
       "      <th>longitude</th>\n",
       "      <th>physicalEvidence</th>\n",
       "      <th>contact</th>\n",
       "    </tr>\n",
       "  </thead>\n",
       "  <tbody>\n",
       "    <tr>\n",
       "      <th>duration</th>\n",
       "      <td>1.000000</td>\n",
       "      <td>0.020679</td>\n",
       "      <td>0.000243</td>\n",
       "      <td>-0.010529</td>\n",
       "      <td>0.016430</td>\n",
       "      <td>0.015188</td>\n",
       "    </tr>\n",
       "    <tr>\n",
       "      <th>witnesses</th>\n",
       "      <td>0.020679</td>\n",
       "      <td>1.000000</td>\n",
       "      <td>0.010229</td>\n",
       "      <td>0.003449</td>\n",
       "      <td>0.009186</td>\n",
       "      <td>-0.000651</td>\n",
       "    </tr>\n",
       "    <tr>\n",
       "      <th>latitude</th>\n",
       "      <td>0.000243</td>\n",
       "      <td>0.010229</td>\n",
       "      <td>1.000000</td>\n",
       "      <td>-0.394536</td>\n",
       "      <td>0.006465</td>\n",
       "      <td>0.004284</td>\n",
       "    </tr>\n",
       "    <tr>\n",
       "      <th>longitude</th>\n",
       "      <td>-0.010529</td>\n",
       "      <td>0.003449</td>\n",
       "      <td>-0.394536</td>\n",
       "      <td>1.000000</td>\n",
       "      <td>-0.004519</td>\n",
       "      <td>-0.004828</td>\n",
       "    </tr>\n",
       "    <tr>\n",
       "      <th>physicalEvidence</th>\n",
       "      <td>0.016430</td>\n",
       "      <td>0.009186</td>\n",
       "      <td>0.006465</td>\n",
       "      <td>-0.004519</td>\n",
       "      <td>1.000000</td>\n",
       "      <td>0.693276</td>\n",
       "    </tr>\n",
       "    <tr>\n",
       "      <th>contact</th>\n",
       "      <td>0.015188</td>\n",
       "      <td>-0.000651</td>\n",
       "      <td>0.004284</td>\n",
       "      <td>-0.004828</td>\n",
       "      <td>0.693276</td>\n",
       "      <td>1.000000</td>\n",
       "    </tr>\n",
       "  </tbody>\n",
       "</table>\n",
       "</div>"
      ],
      "text/plain": [
       "                  duration  witnesses  latitude  longitude  physicalEvidence  \\\n",
       "duration          1.000000   0.020679  0.000243  -0.010529          0.016430   \n",
       "witnesses         0.020679   1.000000  0.010229   0.003449          0.009186   \n",
       "latitude          0.000243   0.010229  1.000000  -0.394536          0.006465   \n",
       "longitude        -0.010529   0.003449 -0.394536   1.000000         -0.004519   \n",
       "physicalEvidence  0.016430   0.009186  0.006465  -0.004519          1.000000   \n",
       "contact           0.015188  -0.000651  0.004284  -0.004828          0.693276   \n",
       "\n",
       "                   contact  \n",
       "duration          0.015188  \n",
       "witnesses        -0.000651  \n",
       "latitude          0.004284  \n",
       "longitude        -0.004828  \n",
       "physicalEvidence  0.693276  \n",
       "contact           1.000000  "
      ]
     },
     "execution_count": 25,
     "metadata": {},
     "output_type": "execute_result"
    }
   ],
   "source": [
    "df.corr()"
   ]
  },
  {
   "cell_type": "markdown",
   "metadata": {},
   "source": [
    "now drop the columns that are not important. (1) drop 'sighting' because it is always 'Yes'; (2) drop first name and last name because these are not important with regards to the reserachOutcome; (3) drop reportedTimestamp because the time of sighting deoes not help to determine the legitimacy of the sighting, (4) if the eventDate and eventTime are not evenly distributed, it may helps if some sort of buckets (e.g., seasons) can be created, but since the eventDate and envetTime are pretty evenly distributed, they can be dropped too."
   ]
  },
  {
   "cell_type": "code",
   "execution_count": 26,
   "metadata": {},
   "outputs": [],
   "source": [
    "df.drop(columns=['firstName', 'lastName', 'sighting', 'reportedTimestamp', 'eventDate', 'eventTime'], inplace=True)"
   ]
  },
  {
   "cell_type": "code",
   "execution_count": 27,
   "metadata": {},
   "outputs": [
    {
     "data": {
      "text/html": [
       "<div>\n",
       "<style scoped>\n",
       "    .dataframe tbody tr th:only-of-type {\n",
       "        vertical-align: middle;\n",
       "    }\n",
       "\n",
       "    .dataframe tbody tr th {\n",
       "        vertical-align: top;\n",
       "    }\n",
       "\n",
       "    .dataframe thead th {\n",
       "        text-align: right;\n",
       "    }\n",
       "</style>\n",
       "<table border=\"1\" class=\"dataframe\">\n",
       "  <thead>\n",
       "    <tr style=\"text-align: right;\">\n",
       "      <th></th>\n",
       "      <th>shape</th>\n",
       "      <th>duration</th>\n",
       "      <th>witnesses</th>\n",
       "      <th>weather</th>\n",
       "      <th>latitude</th>\n",
       "      <th>longitude</th>\n",
       "      <th>physicalEvidence</th>\n",
       "      <th>contact</th>\n",
       "      <th>researchOutcome</th>\n",
       "    </tr>\n",
       "  </thead>\n",
       "  <tbody>\n",
       "    <tr>\n",
       "      <th>0</th>\n",
       "      <td>circle</td>\n",
       "      <td>4</td>\n",
       "      <td>1</td>\n",
       "      <td>rain</td>\n",
       "      <td>47.329444</td>\n",
       "      <td>-122.578889</td>\n",
       "      <td>0</td>\n",
       "      <td>0</td>\n",
       "      <td>explained</td>\n",
       "    </tr>\n",
       "    <tr>\n",
       "      <th>1</th>\n",
       "      <td>disk</td>\n",
       "      <td>4</td>\n",
       "      <td>1</td>\n",
       "      <td>partly cloudy</td>\n",
       "      <td>52.664913</td>\n",
       "      <td>-1.034894</td>\n",
       "      <td>1</td>\n",
       "      <td>0</td>\n",
       "      <td>explained</td>\n",
       "    </tr>\n",
       "    <tr>\n",
       "      <th>2</th>\n",
       "      <td>circle</td>\n",
       "      <td>49</td>\n",
       "      <td>1</td>\n",
       "      <td>clear</td>\n",
       "      <td>38.951667</td>\n",
       "      <td>-92.333889</td>\n",
       "      <td>0</td>\n",
       "      <td>0</td>\n",
       "      <td>explained</td>\n",
       "    </tr>\n",
       "    <tr>\n",
       "      <th>3</th>\n",
       "      <td>disk</td>\n",
       "      <td>13</td>\n",
       "      <td>1</td>\n",
       "      <td>partly cloudy</td>\n",
       "      <td>41.496944</td>\n",
       "      <td>-71.367778</td>\n",
       "      <td>0</td>\n",
       "      <td>0</td>\n",
       "      <td>explained</td>\n",
       "    </tr>\n",
       "    <tr>\n",
       "      <th>4</th>\n",
       "      <td>circle</td>\n",
       "      <td>17</td>\n",
       "      <td>1</td>\n",
       "      <td>mostly cloudy</td>\n",
       "      <td>47.606389</td>\n",
       "      <td>-122.330833</td>\n",
       "      <td>0</td>\n",
       "      <td>0</td>\n",
       "      <td>explained</td>\n",
       "    </tr>\n",
       "  </tbody>\n",
       "</table>\n",
       "</div>"
      ],
      "text/plain": [
       "    shape  duration  witnesses        weather   latitude   longitude  \\\n",
       "0  circle         4          1           rain  47.329444 -122.578889   \n",
       "1    disk         4          1  partly cloudy  52.664913   -1.034894   \n",
       "2  circle        49          1          clear  38.951667  -92.333889   \n",
       "3    disk        13          1  partly cloudy  41.496944  -71.367778   \n",
       "4  circle        17          1  mostly cloudy  47.606389 -122.330833   \n",
       "\n",
       "   physicalEvidence  contact researchOutcome  \n",
       "0                 0        0       explained  \n",
       "1                 1        0       explained  \n",
       "2                 0        0       explained  \n",
       "3                 0        0       explained  \n",
       "4                 0        0       explained  "
      ]
     },
     "execution_count": 27,
     "metadata": {},
     "output_type": "execute_result"
    }
   ],
   "source": [
    "df.head()\n"
   ]
  },
  {
   "cell_type": "markdown",
   "metadata": {},
   "source": [
    "Now apply one-hot encoding for categorical values: (1) apply one-hot encoding for both weather and shape attributes; (2) map researchOutcome (target) into numerical values."
   ]
  },
  {
   "cell_type": "code",
   "execution_count": 28,
   "metadata": {},
   "outputs": [],
   "source": [
    "df = pd.get_dummies(df, columns=['weather', 'shape'])"
   ]
  },
  {
   "cell_type": "code",
   "execution_count": 29,
   "metadata": {},
   "outputs": [],
   "source": [
    "df['researchOutcome'] = df['researchOutcome'].replace({'unexplained':0, 'explained':1, 'probable':2})"
   ]
  },
  {
   "cell_type": "code",
   "execution_count": 30,
   "metadata": {},
   "outputs": [
    {
     "data": {
      "text/html": [
       "<div>\n",
       "<style scoped>\n",
       "    .dataframe tbody tr th:only-of-type {\n",
       "        vertical-align: middle;\n",
       "    }\n",
       "\n",
       "    .dataframe tbody tr th {\n",
       "        vertical-align: top;\n",
       "    }\n",
       "\n",
       "    .dataframe thead th {\n",
       "        text-align: right;\n",
       "    }\n",
       "</style>\n",
       "<table border=\"1\" class=\"dataframe\">\n",
       "  <thead>\n",
       "    <tr style=\"text-align: right;\">\n",
       "      <th></th>\n",
       "      <th>duration</th>\n",
       "      <th>witnesses</th>\n",
       "      <th>latitude</th>\n",
       "      <th>longitude</th>\n",
       "      <th>physicalEvidence</th>\n",
       "      <th>contact</th>\n",
       "      <th>researchOutcome</th>\n",
       "      <th>weather_clear</th>\n",
       "      <th>weather_fog</th>\n",
       "      <th>weather_mostly cloudy</th>\n",
       "      <th>...</th>\n",
       "      <th>weather_stormy</th>\n",
       "      <th>shape_box</th>\n",
       "      <th>shape_circle</th>\n",
       "      <th>shape_disk</th>\n",
       "      <th>shape_light</th>\n",
       "      <th>shape_oval</th>\n",
       "      <th>shape_pyramid</th>\n",
       "      <th>shape_sphere</th>\n",
       "      <th>shape_square</th>\n",
       "      <th>shape_triangle</th>\n",
       "    </tr>\n",
       "  </thead>\n",
       "  <tbody>\n",
       "    <tr>\n",
       "      <th>0</th>\n",
       "      <td>4</td>\n",
       "      <td>1</td>\n",
       "      <td>47.329444</td>\n",
       "      <td>-122.578889</td>\n",
       "      <td>0</td>\n",
       "      <td>0</td>\n",
       "      <td>1</td>\n",
       "      <td>0</td>\n",
       "      <td>0</td>\n",
       "      <td>0</td>\n",
       "      <td>...</td>\n",
       "      <td>0</td>\n",
       "      <td>0</td>\n",
       "      <td>1</td>\n",
       "      <td>0</td>\n",
       "      <td>0</td>\n",
       "      <td>0</td>\n",
       "      <td>0</td>\n",
       "      <td>0</td>\n",
       "      <td>0</td>\n",
       "      <td>0</td>\n",
       "    </tr>\n",
       "    <tr>\n",
       "      <th>1</th>\n",
       "      <td>4</td>\n",
       "      <td>1</td>\n",
       "      <td>52.664913</td>\n",
       "      <td>-1.034894</td>\n",
       "      <td>1</td>\n",
       "      <td>0</td>\n",
       "      <td>1</td>\n",
       "      <td>0</td>\n",
       "      <td>0</td>\n",
       "      <td>0</td>\n",
       "      <td>...</td>\n",
       "      <td>0</td>\n",
       "      <td>0</td>\n",
       "      <td>0</td>\n",
       "      <td>1</td>\n",
       "      <td>0</td>\n",
       "      <td>0</td>\n",
       "      <td>0</td>\n",
       "      <td>0</td>\n",
       "      <td>0</td>\n",
       "      <td>0</td>\n",
       "    </tr>\n",
       "    <tr>\n",
       "      <th>2</th>\n",
       "      <td>49</td>\n",
       "      <td>1</td>\n",
       "      <td>38.951667</td>\n",
       "      <td>-92.333889</td>\n",
       "      <td>0</td>\n",
       "      <td>0</td>\n",
       "      <td>1</td>\n",
       "      <td>1</td>\n",
       "      <td>0</td>\n",
       "      <td>0</td>\n",
       "      <td>...</td>\n",
       "      <td>0</td>\n",
       "      <td>0</td>\n",
       "      <td>1</td>\n",
       "      <td>0</td>\n",
       "      <td>0</td>\n",
       "      <td>0</td>\n",
       "      <td>0</td>\n",
       "      <td>0</td>\n",
       "      <td>0</td>\n",
       "      <td>0</td>\n",
       "    </tr>\n",
       "    <tr>\n",
       "      <th>3</th>\n",
       "      <td>13</td>\n",
       "      <td>1</td>\n",
       "      <td>41.496944</td>\n",
       "      <td>-71.367778</td>\n",
       "      <td>0</td>\n",
       "      <td>0</td>\n",
       "      <td>1</td>\n",
       "      <td>0</td>\n",
       "      <td>0</td>\n",
       "      <td>0</td>\n",
       "      <td>...</td>\n",
       "      <td>0</td>\n",
       "      <td>0</td>\n",
       "      <td>0</td>\n",
       "      <td>1</td>\n",
       "      <td>0</td>\n",
       "      <td>0</td>\n",
       "      <td>0</td>\n",
       "      <td>0</td>\n",
       "      <td>0</td>\n",
       "      <td>0</td>\n",
       "    </tr>\n",
       "    <tr>\n",
       "      <th>4</th>\n",
       "      <td>17</td>\n",
       "      <td>1</td>\n",
       "      <td>47.606389</td>\n",
       "      <td>-122.330833</td>\n",
       "      <td>0</td>\n",
       "      <td>0</td>\n",
       "      <td>1</td>\n",
       "      <td>0</td>\n",
       "      <td>0</td>\n",
       "      <td>1</td>\n",
       "      <td>...</td>\n",
       "      <td>0</td>\n",
       "      <td>0</td>\n",
       "      <td>1</td>\n",
       "      <td>0</td>\n",
       "      <td>0</td>\n",
       "      <td>0</td>\n",
       "      <td>0</td>\n",
       "      <td>0</td>\n",
       "      <td>0</td>\n",
       "      <td>0</td>\n",
       "    </tr>\n",
       "  </tbody>\n",
       "</table>\n",
       "<p>5 rows × 23 columns</p>\n",
       "</div>"
      ],
      "text/plain": [
       "   duration  witnesses   latitude   longitude  physicalEvidence  contact  \\\n",
       "0         4          1  47.329444 -122.578889                 0        0   \n",
       "1         4          1  52.664913   -1.034894                 1        0   \n",
       "2        49          1  38.951667  -92.333889                 0        0   \n",
       "3        13          1  41.496944  -71.367778                 0        0   \n",
       "4        17          1  47.606389 -122.330833                 0        0   \n",
       "\n",
       "   researchOutcome  weather_clear  weather_fog  weather_mostly cloudy  ...  \\\n",
       "0                1              0            0                      0  ...   \n",
       "1                1              0            0                      0  ...   \n",
       "2                1              1            0                      0  ...   \n",
       "3                1              0            0                      0  ...   \n",
       "4                1              0            0                      1  ...   \n",
       "\n",
       "   weather_stormy  shape_box  shape_circle  shape_disk  shape_light  \\\n",
       "0               0          0             1           0            0   \n",
       "1               0          0             0           1            0   \n",
       "2               0          0             1           0            0   \n",
       "3               0          0             0           1            0   \n",
       "4               0          0             1           0            0   \n",
       "\n",
       "   shape_oval  shape_pyramid  shape_sphere  shape_square  shape_triangle  \n",
       "0           0              0             0             0               0  \n",
       "1           0              0             0             0               0  \n",
       "2           0              0             0             0               0  \n",
       "3           0              0             0             0               0  \n",
       "4           0              0             0             0               0  \n",
       "\n",
       "[5 rows x 23 columns]"
      ]
     },
     "metadata": {},
     "output_type": "display_data"
    }
   ],
   "source": [
    "display(df.head())\n"
   ]
  },
  {
   "cell_type": "code",
   "execution_count": 31,
   "metadata": {},
   "outputs": [
    {
     "data": {
      "text/plain": [
       "(18000, 23)"
      ]
     },
     "metadata": {},
     "output_type": "display_data"
    }
   ],
   "source": [
    "display(df.shape)"
   ]
  },
  {
   "cell_type": "markdown",
   "metadata": {},
   "source": [
    "Now start training. Randomize and split the data for training, calidation and testing.(1) Randomize the data; (2) split the data to use 80% for training, 10% for validation during training, and 10% for testing the model after it is deployed"
   ]
  },
  {
   "cell_type": "code",
   "execution_count": 32,
   "metadata": {},
   "outputs": [],
   "source": [
    "#Randomize the dataset\n",
    "df = df.sample(frac=1).reset_index(drop=True)"
   ]
  },
  {
   "cell_type": "code",
   "execution_count": 33,
   "metadata": {},
   "outputs": [],
   "source": [
    "#split the data for training, validation and testing\n",
    "rand_split = np.random.rand(len(df))\n",
    "train_list = rand_split < 0.8\n",
    "val_list = (rand_split >= 0.8) & (rand_split < 0.9)\n",
    "test_list = rand_split >= 0.9"
   ]
  },
  {
   "cell_type": "code",
   "execution_count": 34,
   "metadata": {},
   "outputs": [],
   "source": [
    "data_train = df[train_list]\n",
    "data_val = df[val_list]\n",
    "data_test = df[test_list]"
   ]
  },
  {
   "cell_type": "markdown",
   "metadata": {},
   "source": [
    "Now rmake the target attribute researchOutcome as the first attribute according to the requiremnts set by AWS documentations, which is also that the XGBoost algorithm expects. After this, the datasets will be stored as csv format in S3"
   ]
  },
  {
   "cell_type": "code",
   "execution_count": 35,
   "metadata": {},
   "outputs": [],
   "source": [
    "# Simply moves the researchOutcome attribute to the first position before creating csv files\n",
    "pd.concat([data_train['researchOutcome'], data_train.drop(['researchOutcome'], axis=1)], axis=1).to_csv('train.csv', index=False, header=False)\n",
    "pd.concat([data_val['researchOutcome'], data_val.drop(['researchOutcome'], axis=1)], axis=1).to_csv('validation.csv', index=False, header=False)\n",
    "\n",
    "# Next take the files that have just been stored onto the Notebook instance and upload them to S3.\n",
    "boto3.Session().resource('s3').Bucket(bucket).Object('algorithms_lab_922/xgboost_train/train.csv').upload_file('train.csv')\n",
    "boto3.Session().resource('s3').Bucket(bucket).Object('algorithms_lab_922/xgboost_validation/validation.csv').upload_file('validation.csv')"
   ]
  },
  {
   "cell_type": "markdown",
   "metadata": {},
   "source": [
    "### Step 3: Create and train XGBoost mode"
   ]
  },
  {
   "cell_type": "markdown",
   "metadata": {},
   "source": [
    "Now get tthe ECR container hosted in ECR for the XGBoost algorithm"
   ]
  },
  {
   "cell_type": "code",
   "execution_count": 37,
   "metadata": {},
   "outputs": [],
   "source": [
    "from sagemaker.amazon.amazon_estimator import get_image_uri\n",
    "container = get_image_uri(boto3.Session().region_name, 'xgboost', '0.90-1')"
   ]
  },
  {
   "cell_type": "markdown",
   "metadata": {},
   "source": [
    "because training data is in csv format, it will need to create inputs that the training function can use as a pointer to the files in S3, which also specify that the content type is csv."
   ]
  },
  {
   "cell_type": "code",
   "execution_count": 38,
   "metadata": {},
   "outputs": [],
   "source": [
    "s3_input_train = sagemaker.s3_input(s3_data='s3://{}/algorithms_lab_922/xgboost_train'.format(bucket), content_type='csv')\n",
    "s3_input_validation = sagemaker.s3_input(s3_data='s3://{}/algorithms_lab_922/xgboost_validation'.format(bucket), content_type='csv')"
   ]
  },
  {
   "cell_type": "markdown",
   "metadata": {},
   "source": [
    "Now to start building out the model by using the SageMaker Python SDK and passing in everything that is required to create a XGBoost model.\n",
    "\n",
    "First create a specific job name.\n",
    "\n",
    "Then specify the training parameters.\n",
    "\n",
    "The xgboost algorithm container\n",
    "The IAM role to use\n",
    "Training instance type and count\n",
    "S3 location for output data/model artifact\n",
    "XGBoost Hyperparameters\n",
    "\n",
    "Finally, after everything is included and ready, it's time to call the .fit() function which specifies the S3 location for training and validation data.\n"
   ]
  },
  {
   "cell_type": "code",
   "execution_count": 39,
   "metadata": {},
   "outputs": [
    {
     "name": "stdout",
     "output_type": "stream",
     "text": [
      "Here is the job name ufo-xgboost-job-20190923053125\n"
     ]
    }
   ],
   "source": [
    "# create a training job name\n",
    "job_name = 'ufo-xgboost-job-{}'.format(datetime.now().strftime(\"%Y%m%d%H%M%S\"))\n",
    "print('Here is the job name {}'.format(job_name))\n",
    "\n",
    "# Here is where the model artifact will be stored\n",
    "output_location = 's3://{}/algorithms_lab_922/xgboost_output'.format(bucket)"
   ]
  },
  {
   "cell_type": "code",
   "execution_count": 40,
   "metadata": {},
   "outputs": [
    {
     "name": "stdout",
     "output_type": "stream",
     "text": [
      "2019-09-23 05:31:42 Starting - Starting the training job...\n",
      "2019-09-23 05:31:45 Starting - Launching requested ML instances......\n",
      "2019-09-23 05:32:47 Starting - Preparing the instances for training......\n",
      "2019-09-23 05:33:57 Downloading - Downloading input data\n",
      "2019-09-23 05:33:57 Training - Downloading the training image..\u001b[31m2019-09-23 05:34:16,310 sagemaker-containers INFO     Imported framework sagemaker_xgboost_container.training\u001b[0m\n",
      "\u001b[31m2019-09-23 05:34:16,311 sagemaker-containers INFO     Failed to parse hyperparameter objective value multi:softmax to Json.\u001b[0m\n",
      "\u001b[31mReturning the value itself\u001b[0m\n",
      "\u001b[31m2019-09-23 05:34:16,314 sagemaker-containers INFO     No GPUs detected (normal if no gpus installed)\u001b[0m\n",
      "\u001b[31m2019-09-23 05:34:16,328 sagemaker_xgboost_container.training INFO     Running XGBoost Sagemaker in algorithm mode\u001b[0m\n",
      "\u001b[31m2019-09-23 05:34:16,331 root         INFO     Determined delimiter of CSV input is ','\u001b[0m\n",
      "\u001b[31m2019-09-23 05:34:16,331 root         ERROR    1,85,7,34.228333299999996,-118.5358333,0,0,0,0,1,0,0,0,0,0,0,1,0,0,0,0,0,0\n",
      " does not follow LIBSVM label format <label>(:<weight>).\u001b[0m\n",
      "\u001b[31m2019-09-23 05:34:16,332 root         INFO     Determined delimiter of CSV input is ','\u001b[0m\n",
      "\u001b[31m2019-09-23 05:34:16,332 root         ERROR    1,98,4,34.6291667,-78.6055556,0,0,0,0,1,0,0,0,0,0,0,1,0,0,0,0,0,0\n",
      " does not follow LIBSVM label format <label>(:<weight>).\u001b[0m\n",
      "\u001b[31m2019-09-23 05:34:16,333 root         INFO     Determined delimiter of CSV input is ','\u001b[0m\n",
      "\u001b[31m[05:34:16] 14384x22 matrix with 316448 entries loaded from /opt/ml/input/data/train?format=csv&label_column=0&delimiter=,\u001b[0m\n",
      "\u001b[31m2019-09-23 05:34:16,359 root         INFO     Determined delimiter of CSV input is ','\u001b[0m\n",
      "\u001b[31m[05:34:16] 1889x22 matrix with 41558 entries loaded from /opt/ml/input/data/validation?format=csv&label_column=0&delimiter=,\u001b[0m\n",
      "\u001b[31m2019-09-23 05:34:16,372 root         INFO     Single node training.\u001b[0m\n",
      "\u001b[31m2019-09-23 05:34:16,373 root         INFO     Train matrix has 14384 rows\u001b[0m\n",
      "\u001b[31m2019-09-23 05:34:16,373 root         INFO     Validation matrix has 1889 rows\u001b[0m\n",
      "\u001b[31m2019-09-23 05:34:16,373 root         INFO     {'objective': 'multi:softmax', 'num_round': 100, 'num_class': 3}\u001b[0m\n",
      "\u001b[31m[0]#011train-merror:0.049778#011validation-merror:0.058232\u001b[0m\n",
      "\u001b[31m[1]#011train-merror:0.049152#011validation-merror:0.056644\u001b[0m\n",
      "\u001b[31m[2]#011train-merror:0.048318#011validation-merror:0.056114\u001b[0m\n",
      "\u001b[31m[3]#011train-merror:0.048457#011validation-merror:0.056644\u001b[0m\n",
      "\u001b[31m[4]#011train-merror:0.048387#011validation-merror:0.055056\u001b[0m\n",
      "\u001b[31m[5]#011train-merror:0.048179#011validation-merror:0.054526\u001b[0m\n",
      "\u001b[31m[6]#011train-merror:0.048248#011validation-merror:0.054526\u001b[0m\n",
      "\u001b[31m[7]#011train-merror:0.048318#011validation-merror:0.054526\u001b[0m\n",
      "\u001b[31m[8]#011train-merror:0.0479#011validation-merror:0.055056\u001b[0m\n",
      "\u001b[31m[9]#011train-merror:0.047761#011validation-merror:0.054526\u001b[0m\n",
      "\u001b[31m[10]#011train-merror:0.047553#011validation-merror:0.053997\u001b[0m\n",
      "\u001b[31m[11]#011train-merror:0.047483#011validation-merror:0.053997\u001b[0m\n",
      "\u001b[31m[12]#011train-merror:0.047414#011validation-merror:0.054526\u001b[0m\n",
      "\u001b[31m[13]#011train-merror:0.047692#011validation-merror:0.054526\u001b[0m\n",
      "\u001b[31m[14]#011train-merror:0.047205#011validation-merror:0.055056\u001b[0m\n",
      "\u001b[31m[15]#011train-merror:0.046858#011validation-merror:0.055056\u001b[0m\n",
      "\u001b[31m[16]#011train-merror:0.046997#011validation-merror:0.055585\u001b[0m\n",
      "\u001b[31m[17]#011train-merror:0.04658#011validation-merror:0.055056\u001b[0m\n",
      "\u001b[31m[18]#011train-merror:0.046232#011validation-merror:0.054526\u001b[0m\n",
      "\u001b[31m[19]#011train-merror:0.045259#011validation-merror:0.053997\u001b[0m\n",
      "\u001b[31m[20]#011train-merror:0.044702#011validation-merror:0.053997\u001b[0m\n",
      "\u001b[31m[21]#011train-merror:0.044424#011validation-merror:0.053997\u001b[0m\n",
      "\u001b[31m[22]#011train-merror:0.043938#011validation-merror:0.053997\u001b[0m\n",
      "\u001b[31m[23]#011train-merror:0.04366#011validation-merror:0.053997\u001b[0m\n",
      "\u001b[31m[24]#011train-merror:0.042895#011validation-merror:0.054526\u001b[0m\n",
      "\u001b[31m[25]#011train-merror:0.042478#011validation-merror:0.053997\u001b[0m\n",
      "\u001b[31m[26]#011train-merror:0.042478#011validation-merror:0.054526\u001b[0m\n",
      "\u001b[31m[27]#011train-merror:0.041922#011validation-merror:0.054526\u001b[0m\n",
      "\u001b[31m[28]#011train-merror:0.041991#011validation-merror:0.053997\u001b[0m\n",
      "\u001b[31m[29]#011train-merror:0.041574#011validation-merror:0.053997\u001b[0m\n",
      "\u001b[31m[30]#011train-merror:0.040809#011validation-merror:0.054526\u001b[0m\n",
      "\u001b[31m[31]#011train-merror:0.040184#011validation-merror:0.054526\u001b[0m\n",
      "\u001b[31m[32]#011train-merror:0.039558#011validation-merror:0.054526\u001b[0m\n",
      "\u001b[31m[33]#011train-merror:0.039419#011validation-merror:0.055056\u001b[0m\n",
      "\u001b[31m[34]#011train-merror:0.038445#011validation-merror:0.055585\u001b[0m\n",
      "\u001b[31m[35]#011train-merror:0.037959#011validation-merror:0.056114\u001b[0m\n",
      "\u001b[31m[36]#011train-merror:0.037681#011validation-merror:0.056644\u001b[0m\n",
      "\u001b[31m[37]#011train-merror:0.037194#011validation-merror:0.056644\u001b[0m\n",
      "\u001b[31m[38]#011train-merror:0.03629#011validation-merror:0.056644\u001b[0m\n",
      "\u001b[31m[39]#011train-merror:0.034969#011validation-merror:0.056644\u001b[0m\n",
      "\u001b[31m[40]#011train-merror:0.03483#011validation-merror:0.056644\u001b[0m\n",
      "\u001b[31m[41]#011train-merror:0.034413#011validation-merror:0.056644\u001b[0m\n",
      "\u001b[31m[42]#011train-merror:0.034066#011validation-merror:0.056644\u001b[0m\n",
      "\u001b[31m[43]#011train-merror:0.03344#011validation-merror:0.056644\u001b[0m\n",
      "\u001b[31m[44]#011train-merror:0.033092#011validation-merror:0.056114\u001b[0m\n",
      "\u001b[31m[45]#011train-merror:0.032745#011validation-merror:0.056114\u001b[0m\n",
      "\u001b[31m[46]#011train-merror:0.032189#011validation-merror:0.056114\u001b[0m\n",
      "\u001b[31m[47]#011train-merror:0.031076#011validation-merror:0.056114\u001b[0m\n",
      "\u001b[31m[48]#011train-merror:0.030798#011validation-merror:0.056114\u001b[0m\n",
      "\u001b[31m[49]#011train-merror:0.029964#011validation-merror:0.057173\u001b[0m\n",
      "\u001b[31m[50]#011train-merror:0.029547#011validation-merror:0.056644\u001b[0m\n",
      "\u001b[31m[51]#011train-merror:0.02913#011validation-merror:0.057702\u001b[0m\n",
      "\u001b[31m[52]#011train-merror:0.028921#011validation-merror:0.057702\u001b[0m\n",
      "\u001b[31m[53]#011train-merror:0.027948#011validation-merror:0.056644\u001b[0m\n",
      "\u001b[31m[54]#011train-merror:0.027392#011validation-merror:0.057173\u001b[0m\n",
      "\u001b[31m[55]#011train-merror:0.027113#011validation-merror:0.057173\u001b[0m\n",
      "\u001b[31m[56]#011train-merror:0.026696#011validation-merror:0.057173\u001b[0m\n",
      "\u001b[31m[57]#011train-merror:0.025654#011validation-merror:0.057173\u001b[0m\n",
      "\u001b[31m[58]#011train-merror:0.025514#011validation-merror:0.057173\u001b[0m\n",
      "\u001b[31m[59]#011train-merror:0.025167#011validation-merror:0.056114\u001b[0m\n",
      "\u001b[31m[60]#011train-merror:0.024958#011validation-merror:0.056644\u001b[0m\n",
      "\u001b[31m[61]#011train-merror:0.02468#011validation-merror:0.057173\u001b[0m\n",
      "\u001b[31m[62]#011train-merror:0.024194#011validation-merror:0.057702\u001b[0m\n",
      "\u001b[31m[63]#011train-merror:0.023637#011validation-merror:0.056114\u001b[0m\n",
      "\u001b[31m[64]#011train-merror:0.023568#011validation-merror:0.056114\u001b[0m\n",
      "\u001b[31m[65]#011train-merror:0.023012#011validation-merror:0.056114\u001b[0m\n",
      "\u001b[31m[66]#011train-merror:0.022525#011validation-merror:0.056644\u001b[0m\n",
      "\u001b[31m[67]#011train-merror:0.022177#011validation-merror:0.057173\u001b[0m\n",
      "\u001b[31m[68]#011train-merror:0.022247#011validation-merror:0.056644\u001b[0m\n",
      "\u001b[31m[69]#011train-merror:0.021413#011validation-merror:0.057173\u001b[0m\n",
      "\u001b[31m[70]#011train-merror:0.021343#011validation-merror:0.057173\u001b[0m\n",
      "\u001b[31m[71]#011train-merror:0.020926#011validation-merror:0.057702\u001b[0m\n",
      "\u001b[31m[72]#011train-merror:0.020648#011validation-merror:0.057702\u001b[0m\n",
      "\u001b[31m[73]#011train-merror:0.020231#011validation-merror:0.057702\u001b[0m\n",
      "\u001b[31m[74]#011train-merror:0.019536#011validation-merror:0.058232\u001b[0m\n",
      "\u001b[31m[75]#011train-merror:0.019188#011validation-merror:0.057702\u001b[0m\n",
      "\u001b[31m[76]#011train-merror:0.01884#011validation-merror:0.057173\u001b[0m\n",
      "\u001b[31m[77]#011train-merror:0.018145#011validation-merror:0.057702\u001b[0m\n",
      "\u001b[31m[78]#011train-merror:0.018076#011validation-merror:0.057173\u001b[0m\n",
      "\u001b[31m[79]#011train-merror:0.017728#011validation-merror:0.057702\u001b[0m\n",
      "\u001b[31m[80]#011train-merror:0.017589#011validation-merror:0.057702\u001b[0m\n",
      "\u001b[31m[81]#011train-merror:0.016755#011validation-merror:0.057702\u001b[0m\n",
      "\u001b[31m[82]#011train-merror:0.01592#011validation-merror:0.058761\u001b[0m\n",
      "\u001b[31m[83]#011train-merror:0.015851#011validation-merror:0.058761\u001b[0m\n",
      "\u001b[31m[84]#011train-merror:0.015225#011validation-merror:0.058761\u001b[0m\n",
      "\u001b[31m[85]#011train-merror:0.014808#011validation-merror:0.058761\u001b[0m\n",
      "\u001b[31m[86]#011train-merror:0.014391#011validation-merror:0.059291\u001b[0m\n",
      "\u001b[31m[87]#011train-merror:0.014043#011validation-merror:0.05982\u001b[0m\n",
      "\u001b[31m[88]#011train-merror:0.014043#011validation-merror:0.05982\u001b[0m\n",
      "\u001b[31m[89]#011train-merror:0.013765#011validation-merror:0.060879\u001b[0m\n",
      "\u001b[31m[90]#011train-merror:0.013696#011validation-merror:0.060349\u001b[0m\n",
      "\u001b[31m[91]#011train-merror:0.013487#011validation-merror:0.05982\u001b[0m\n",
      "\u001b[31m[92]#011train-merror:0.012862#011validation-merror:0.05982\u001b[0m\n",
      "\u001b[31m[93]#011train-merror:0.012792#011validation-merror:0.05982\u001b[0m\n",
      "\u001b[31m[94]#011train-merror:0.012653#011validation-merror:0.061408\u001b[0m\n",
      "\u001b[31m[95]#011train-merror:0.012444#011validation-merror:0.060879\u001b[0m\n",
      "\u001b[31m[96]#011train-merror:0.011958#011validation-merror:0.060879\u001b[0m\n",
      "\u001b[31m[97]#011train-merror:0.01168#011validation-merror:0.060879\u001b[0m\n",
      "\u001b[31m[98]#011train-merror:0.011332#011validation-merror:0.061408\u001b[0m\n",
      "\u001b[31m[99]#011train-merror:0.010706#011validation-merror:0.061408\u001b[0m\n",
      "\n",
      "2019-09-23 05:34:25 Uploading - Uploading generated training model\n",
      "2019-09-23 05:34:25 Completed - Training job completed\n",
      "Training seconds: 39\n",
      "Billable seconds: 39\n"
     ]
    }
   ],
   "source": [
    "sess = sagemaker.Session()\n",
    "\n",
    "xgb = sagemaker.estimator.Estimator(container,\n",
    "                                    role, \n",
    "                                    train_instance_count=1, \n",
    "                                    train_instance_type='ml.m4.xlarge',\n",
    "                                    output_path=output_location,\n",
    "                                    sagemaker_session=sess)\n",
    "\n",
    "xgb.set_hyperparameters(objective='multi:softmax',\n",
    "                        num_class=3,\n",
    "                        num_round=100)\n",
    "\n",
    "data_channels = {\n",
    "    'train': s3_input_train,\n",
    "    'validation': s3_input_validation\n",
    "}\n",
    "xgb.fit(data_channels, job_name=job_name)"
   ]
  },
  {
   "cell_type": "code",
   "execution_count": 41,
   "metadata": {},
   "outputs": [
    {
     "name": "stdout",
     "output_type": "stream",
     "text": [
      "This is the location of the trained XGBoost model: s3://ml-projects-bl/algorithms_lab_922/xgboost_output/ufo-xgboost-job-20190923053125/output/model.tar.gz\n"
     ]
    }
   ],
   "source": [
    "print('This is the location of the trained XGBoost model: {}/{}/output/model.tar.gz'.format(output_location, job_name))"
   ]
  },
  {
   "cell_type": "code",
   "execution_count": null,
   "metadata": {},
   "outputs": [],
   "source": []
  }
 ],
 "metadata": {
  "kernelspec": {
   "display_name": "conda_python3",
   "language": "python",
   "name": "conda_python3"
  },
  "language_info": {
   "codemirror_mode": {
    "name": "ipython",
    "version": 3
   },
   "file_extension": ".py",
   "mimetype": "text/x-python",
   "name": "python",
   "nbconvert_exporter": "python",
   "pygments_lexer": "ipython3",
   "version": "3.6.5"
  }
 },
 "nbformat": 4,
 "nbformat_minor": 2
}
